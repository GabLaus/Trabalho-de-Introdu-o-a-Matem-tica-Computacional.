{
  "cells": [
    {
      "cell_type": "markdown",
      "metadata": {
        "id": "view-in-github",
        "colab_type": "text"
      },
      "source": [
        "<a href=\"https://colab.research.google.com/github/GabLaus/Trabalho-de-Introdu-o-a-Matem-tica-Computacional./blob/main/Exemplo_Transformacao.ipynb\" target=\"_parent\"><img src=\"https://colab.research.google.com/assets/colab-badge.svg\" alt=\"Open In Colab\"/></a>"
      ]
    },
    {
      "cell_type": "markdown",
      "metadata": {
        "id": "WhZZ4pWiNx7l"
      },
      "source": [
        "Universidade do Vale do Itajaí<br>\n",
        "Escola do Mar, Ciência e Tecnologia<br>\n",
        "Professor Felipe Viel\n",
        "\n",
        "# Exemplo de Operações Pontuais e Filtro em OpenCV\n",
        "\n",
        "### Tutoriais da OpenCV\n",
        "\n",
        "- https://docs.opencv.org/master/d9/df8/tutorial_root.html\n",
        "- https://www.geeksforgeeks.org/opencv-python-tutorial/"
      ]
    },
    {
      "cell_type": "markdown",
      "metadata": {
        "id": "8KzyJbE-Nx7q"
      },
      "source": [
        "## Conversão de imagem RGB em imagem Grayscale"
      ]
    },
    {
      "cell_type": "code",
      "execution_count": 2,
      "metadata": {
        "id": "SPRHcibRNx7s"
      },
      "outputs": [],
      "source": [
        "import cv2\n",
        "import numpy as np\n",
        "import matplotlib.pyplot as plt\n",
        "#caso for usar o Google Colab com a OpenCV, usar a lib abaixo\n",
        "from google.colab.patches import cv2_imshow\n"
      ]
    },
    {
      "cell_type": "code",
      "execution_count": null,
      "metadata": {
        "id": "QotrNpurNx7u"
      },
      "outputs": [],
      "source": [
        "#abrir a imagem\n",
        "img = cv2.imread('t1.jpg',1)\n",
        "#caso for usar o Google Colab com a OpenCV,\n",
        "cv2_imshow(img)"
      ]
    },
    {
      "cell_type": "code",
      "execution_count": null,
      "metadata": {
        "id": "VLSzKpTtNx7v"
      },
      "outputs": [],
      "source": [
        "#mostrando a imagem colorida - caso você use Python no seu computador\n",
        "#reutilize para exibir as imagens em outros códigos\n",
        "#Voce pode descomentar o código apagando as aspas simples\n",
        "'''\n",
        "cv2.imshow('in', img)\n",
        "cv2.waitKey(0)\n",
        "cv2.destroyAllWindows()\n",
        "'''"
      ]
    },
    {
      "cell_type": "code",
      "execution_count": null,
      "metadata": {
        "id": "G2Q1PN3QNx7y"
      },
      "outputs": [],
      "source": [
        "#aplicando conversão ponderada - converte imagem colorida para preto e branco\n",
        "#img_grayscale_basic = 0.299*img[ : , : ,0] + 0.587*img[ : , : ,1] + 0.114*img[ : , : ,2]\n",
        "\n",
        "#cv2\n",
        "B, G, R = cv2.split(img)\n",
        "img_grayscale_pondered = 0.299*B+0.587*G+0.114*R\n",
        "\n",
        "img_grayscale_pondered = np.array(img_grayscale_pondered, dtype=np.uint8)\n",
        "\n",
        "cv2_imshow(img_grayscale_pondered)\n"
      ]
    },
    {
      "cell_type": "markdown",
      "metadata": {
        "id": "bA2JoZjXNx78"
      },
      "source": [
        "## Transformações"
      ]
    },
    {
      "cell_type": "code",
      "execution_count": null,
      "metadata": {
        "id": "QGSulCVYNx78"
      },
      "outputs": [],
      "source": [
        "#negativo\n",
        "\n",
        "#img_negative[ : , : ,0] = 255 - img[ : , : ,0]\n",
        "#img_negative[ : , : ,1] = 255 - img[ : , : ,1]\n",
        "#img_negative[ : , : ,2] = 255 - img[ : , : ,2]\n",
        "\n",
        "#Mude a variavel colorida para 1 caso queira colorida, o para 0 caso queira em escala de cinza\n",
        "colorida = 1\n",
        "img_in = cv2.imread('t1.jpg',colorida)\n",
        "\n",
        "img_out = 255 - img_in\n",
        "\n",
        "cv2_imshow(img_in)\n",
        "cv2_imshow(img_out)"
      ]
    },
    {
      "cell_type": "code",
      "execution_count": null,
      "metadata": {
        "id": "HMELaw10Nx8B"
      },
      "outputs": [],
      "source": [
        "#contraste e brilho\n",
        "img_in = cv2.imread('t1.jpg',0)\n",
        "#altere os valores tanto de a quanto de b\n",
        "\n",
        "a = -1\n",
        "b = 1\n",
        "\n",
        "img_out = a*img_in + b\n",
        "\n",
        "img_out = np.array(img_out, dtype = np.uint8)\n",
        "\n",
        "cv2_imshow(img_in)\n",
        "cv2_imshow(img_out)"
      ]
    },
    {
      "cell_type": "markdown",
      "metadata": {
        "id": "W8UZXLnRNx8E"
      },
      "source": [
        "## Filtro Espacial"
      ]
    },
    {
      "cell_type": "code",
      "execution_count": 1,
      "metadata": {
        "id": "hWxjlsd9Nx8F",
        "outputId": "f301accf-6e61-4bff-9a23-5a7a4c8eccf4",
        "colab": {
          "base_uri": "https://localhost:8080/",
          "height": 236
        }
      },
      "outputs": [
        {
          "output_type": "error",
          "ename": "NameError",
          "evalue": "ignored",
          "traceback": [
            "\u001b[0;31m---------------------------------------------------------------------------\u001b[0m",
            "\u001b[0;31mNameError\u001b[0m                                 Traceback (most recent call last)",
            "\u001b[0;32m<ipython-input-1-77a7bcdee7dc>\u001b[0m in \u001b[0;36m<cell line: 3>\u001b[0;34m()\u001b[0m\n\u001b[1;32m      1\u001b[0m \u001b[0;31m#suavização\u001b[0m\u001b[0;34m\u001b[0m\u001b[0;34m\u001b[0m\u001b[0m\n\u001b[1;32m      2\u001b[0m \u001b[0;31m#você pode ler sobre o conceito aqui: https://docs.opencv.org/4.x/d4/d13/tutorial_py_filtering.html\u001b[0m\u001b[0;34m\u001b[0m\u001b[0;34m\u001b[0m\u001b[0m\n\u001b[0;32m----> 3\u001b[0;31m \u001b[0mimg_in\u001b[0m \u001b[0;34m=\u001b[0m \u001b[0mcv2\u001b[0m\u001b[0;34m.\u001b[0m\u001b[0mimread\u001b[0m\u001b[0;34m(\u001b[0m\u001b[0;34m't1.jpg'\u001b[0m\u001b[0;34m,\u001b[0m\u001b[0;36m0\u001b[0m\u001b[0;34m)\u001b[0m\u001b[0;34m\u001b[0m\u001b[0;34m\u001b[0m\u001b[0m\n\u001b[0m\u001b[1;32m      4\u001b[0m \u001b[0;34m\u001b[0m\u001b[0m\n\u001b[1;32m      5\u001b[0m \u001b[0mkernel\u001b[0m \u001b[0;34m=\u001b[0m \u001b[0mnp\u001b[0m\u001b[0;34m.\u001b[0m\u001b[0mones\u001b[0m\u001b[0;34m(\u001b[0m\u001b[0;34m(\u001b[0m\u001b[0;36m5\u001b[0m\u001b[0;34m,\u001b[0m\u001b[0;36m5\u001b[0m\u001b[0;34m)\u001b[0m\u001b[0;34m,\u001b[0m\u001b[0mnp\u001b[0m\u001b[0;34m.\u001b[0m\u001b[0mfloat32\u001b[0m\u001b[0;34m)\u001b[0m\u001b[0;34m/\u001b[0m\u001b[0;36m25\u001b[0m\u001b[0;34m\u001b[0m\u001b[0;34m\u001b[0m\u001b[0m\n",
            "\u001b[0;31mNameError\u001b[0m: name 'cv2' is not defined"
          ]
        }
      ],
      "source": [
        "#suavização\n",
        "#você pode ler sobre o conceito aqui: https://docs.opencv.org/4.x/d4/d13/tutorial_py_filtering.html\n",
        "img_in = cv2.imread('t1.jpg',0)\n",
        "\n",
        "kernel = np.ones((5,5),np.float32)/25\n",
        "\n",
        "img_out_1 = cv2.filter2D(img_in,-1,kernel)\n",
        "\n",
        "\n",
        "cv2_imshow(img_in)\n",
        "cv2_imshow(img_out_1)\n",
        "\n"
      ]
    }
  ],
  "metadata": {
    "kernelspec": {
      "display_name": "Python 3",
      "language": "python",
      "name": "python3"
    },
    "language_info": {
      "codemirror_mode": {
        "name": "ipython",
        "version": 3
      },
      "file_extension": ".py",
      "mimetype": "text/x-python",
      "name": "python",
      "nbconvert_exporter": "python",
      "pygments_lexer": "ipython3",
      "version": "3.8.5"
    },
    "colab": {
      "provenance": [],
      "include_colab_link": true
    }
  },
  "nbformat": 4,
  "nbformat_minor": 0
}